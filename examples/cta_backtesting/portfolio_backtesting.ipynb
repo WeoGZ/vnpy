{
 "cells": [
  {
   "cell_type": "code",
   "execution_count": 1,
   "metadata": {},
   "source": [
    "from datetime import datetime\n",
    "\n",
    "from vnpy_ctastrategy.backtesting import BacktestingEngine\n",
    "from vnpy_ctastrategy.strategies.atr_rsi_strategy import AtrRsiStrategy\n",
    "from vnpy_ctastrategy.strategies.boll_channel_strategy import BollChannelStrategy"
   ],
   "outputs": []
  },
  {
   "cell_type": "code",
   "execution_count": 2,
   "metadata": {},
   "source": [
    "def run_backtesting(strategy_class, setting, vt_symbol, interval, start, end, rate, slippage, size, pricetick, capital):\n",
    "    engine = BacktestingEngine()\n",
    "    engine.set_parameters(\n",
    "        vt_symbol=vt_symbol,\n",
    "        interval=interval,\n",
    "        start=start,\n",
    "        end=end,\n",
    "        rate=rate,\n",
    "        slippage=slippage,\n",
    "        size=size,\n",
    "        pricetick=pricetick,\n",
    "        capital=capital\n",
    "    )\n",
    "    engine.add_strategy(strategy_class, setting)\n",
    "    engine.load_data()\n",
    "    engine.run_backtesting()\n",
    "    df = engine.calculate_result()\n",
    "    return df\n",
    "\n",
    "def show_portafolio(df):\n",
    "    engine = BacktestingEngine()\n",
    "    engine.calculate_statistics(df)\n",
    "    engine.show_chart(df)"
   ],
   "outputs": []
  },
  {
   "cell_type": "code",
   "execution_count": 3,
   "metadata": {},
   "source": [
    "df1 = run_backtesting(\n",
    "    strategy_class=AtrRsiStrategy,\n",
    "    setting={},\n",
    "    vt_symbol=\"IF88.CFFEX\",\n",
    "    interval=\"1m\",\n",
    "    start=datetime(2019, 1, 1),\n",
    "    end=datetime(2019, 4, 30),\n",
    "    rate=0.3/10000,\n",
    "    slippage=0.2,\n",
    "    size=300,\n",
    "    pricetick=0.2,\n",
    "    capital=1_000_000,\n",
    "    )"
   ],
   "outputs": []
  },
  {
   "cell_type": "code",
   "execution_count": 4,
   "metadata": {},
   "source": [
    "df2 = run_backtesting(\n",
    "    strategy_class=BollChannelStrategy,\n",
    "    setting={'fixed_size': 16},\n",
    "    vt_symbol=\"RB88.SHFE\",\n",
    "    interval=\"1m\",\n",
    "    start=datetime(2019, 1, 1),\n",
    "    end=datetime(2019, 4, 30),\n",
    "    rate=1/10000,\n",
    "    slippage=1,\n",
    "    size=10,\n",
    "    pricetick=1,\n",
    "    capital=1_000_000,\n",
    "    )"
   ],
   "outputs": []
  },
  {
   "cell_type": "code",
   "execution_count": 5,
   "metadata": {},
   "source": [
    "dfp = df1 + df2\n",
    "dfp =dfp.dropna()\n",
    "show_portafolio(dfp)"
   ],
   "outputs": []
  },
  {
   "cell_type": "code",
   "execution_count": null,
   "metadata": {},
   "source": [],
   "outputs": []
  }
 ],
 "metadata": {
  "kernelspec": {
   "display_name": "Python 3",
   "language": "python",
   "name": "python3"
  },
  "language_info": {
   "codemirror_mode": {
    "name": "ipython",
    "version": 3
   },
   "file_extension": ".py",
   "mimetype": "text/x-python",
   "name": "python",
   "nbconvert_exporter": "python",
   "pygments_lexer": "ipython3",
   "version": "3.13.2"
  },
  "toc": {
   "base_numbering": 1,
   "nav_menu": {},
   "number_sections": true,
   "sideBar": true,
   "skip_h1_title": false,
   "title_cell": "Table of Contents",
   "title_sidebar": "Contents",
   "toc_cell": false,
   "toc_position": {},
   "toc_section_display": true,
   "toc_window_display": false
  }
 },
 "nbformat": 4,
 "nbformat_minor": 2
}
